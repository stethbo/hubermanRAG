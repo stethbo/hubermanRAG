{
 "cells": [
  {
   "cell_type": "markdown",
   "metadata": {},
   "source": [
    "# ***Let's do RAG***"
   ]
  },
  {
   "cell_type": "code",
   "execution_count": 7,
   "metadata": {},
   "outputs": [],
   "source": [
    "import os\n",
    "import requests\n",
    "import chromadb\n",
    "from langchain.vectorstores import Chroma\n",
    "from langchain.embeddings import OpenAIEmbeddings\n",
    "from IPython.display import Markdown\n",
    "from dotenv import load_dotenv\n",
    "\n",
    "load_dotenv()\n",
    "\n",
    "TOKEN = os.getenv(\"CLARIN_TOKEN\")\n",
    "CLARIN_CHAT_ENDPOINT = \"https://services.clarin-pl.eu/api/v1/oapi/chat/completions\"\n",
    "MODEL_ID = \"llama3.1\"\n",
    "PATH_TO_DB = \"../db/chroma\"\n",
    "RAG_PROMPT = \"You are an advanced AI assistant using retrieval-augmented generation to provide detailed and accurate responses. \\\n",
    "Use the following pieces of retrieved context from Andrew Huberman's teachings to answer the question. \\\n",
    "If you don't know the answer, say that you don't know.\\n\\n\""
   ]
  },
  {
   "cell_type": "code",
   "execution_count": 3,
   "metadata": {},
   "outputs": [],
   "source": [
    "def initialize_vector_store():\n",
    "    embeddings = OpenAIEmbeddings(model=\"text-embedding-3-large\")\n",
    "    chroma_client = chromadb.PersistentClient(path=PATH_TO_DB)\n",
    "    vector_store = Chroma(\n",
    "        embedding_function=embeddings,\n",
    "        client=chroma_client,\n",
    "        collection_name=\"huberman_lab\"\n",
    "    )\n",
    "    return vector_store\n",
    "\n",
    "\n",
    "def get_top_docs(vector_store, query, k=6):\n",
    "    return vector_store.similarity_search(query, k=k)\n",
    "\n",
    "\n",
    "def get_llm_response(question):\n",
    "    headers = {\n",
    "        \"Authorization\": f\"Bearer {TOKEN}\",\n",
    "        \"Content-Type\": \"application/json\"\n",
    "    }\n",
    "    data = {\n",
    "        \"model\": MODEL_ID,\n",
    "        \"messages\": [\n",
    "            {\n",
    "                \"role\": \"user\",\n",
    "                \"content\": question\n",
    "            }\n",
    "        ]\n",
    "    }\n",
    "    response = requests.post(CLARIN_CHAT_ENDPOINT, headers=headers, json=data)\n",
    "    \n",
    "    if response.status_code == 200:\n",
    "        return response.json()\n",
    "    else:\n",
    "        print(f\"Failed to fetch data. Status code: {response.status_code}\")\n",
    "        print(\"Response content:\", response.text)\n",
    "        return None"
   ]
  },
  {
   "cell_type": "markdown",
   "metadata": {},
   "source": [
    "#### ***RAG response***"
   ]
  },
  {
   "cell_type": "code",
   "execution_count": null,
   "metadata": {},
   "outputs": [],
   "source": [
    "vector_store = initialize_vector_store()"
   ]
  },
  {
   "cell_type": "code",
   "execution_count": 11,
   "metadata": {},
   "outputs": [
    {
     "data": {
      "text/markdown": [
       "According to Andrew Huberman's teachings, the best way to improve sleep quality involves a multi-step approach, starting with behavioral tools:\n",
       "\n",
       "1. Establishing a consistent daily routine, including exposure to sunlight in the afternoon.\n",
       "2. Avoiding caffeine for 8-10 hours before bedtime.\n",
       "3. Not consuming alcohol before bed.\n",
       "4. Cooling down the bedroom.\n",
       "5. Dimming the lights.\n",
       "\n",
       "In addition to these behavioral tools, exercise can also be beneficial in improving sleep quality, specifically increasing slow-wave stability during slow-wave (deep) sleep."
      ],
      "text/plain": [
       "<IPython.core.display.Markdown object>"
      ]
     },
     "metadata": {},
     "output_type": "display_data"
    }
   ],
   "source": [
    "def get_rag_response(user_input):\n",
    "    retrieved_docs = get_top_docs(vector_store, user_input)\n",
    "    context = \"\\n\\n\".join([doc.page_content for doc in retrieved_docs])\n",
    "    query = f\"{RAG_PROMPT}\\nRetrieved information:\\n {context}\\n\\nQuestion: {user_input}\"\n",
    "    response_text = get_llm_response(query)\n",
    "    return response_text['choices'][0]['message']['content']\n",
    "\n",
    "user_input = \"What is the best way to improve sleep quality?\"\n",
    "response = get_rag_response(user_input)\n",
    "display(Markdown(response))"
   ]
  },
  {
   "cell_type": "markdown",
   "metadata": {},
   "source": [
    "#### ***NO RAG***"
   ]
  },
  {
   "cell_type": "code",
   "execution_count": 12,
   "metadata": {},
   "outputs": [
    {
     "data": {
      "text/markdown": [
       "Improving sleep quality can be achieved through a combination of lifestyle changes, habits, and environment modifications. Here are some evidence-based tips to help you enhance your sleep quality:\n",
       "\n",
       "1. **Establish a consistent sleep schedule**: Go to bed and wake up at the same time every day, including weekends, to regulate your body's internal clock.\n",
       "2. **Create a sleep-conducive environment**:\n",
       "\t* Make your bedroom dark, quiet, and cool (around 60-67°F/15-19°C).\n",
       "\t* Invest in a comfortable mattress and pillows.\n",
       "\t* Consider using blackout curtains, earplugs, or a white noise machine if necessary.\n",
       "3. **Develop a relaxing bedtime routine**: Wind down with activities like reading, meditation, deep breathing exercises, or yoga before bed.\n",
       "4. **Limit exposure to screens before bed**: Avoid using electronic devices for at least an hour before bedtime, as the blue light emitted from screens can suppress melatonin production.\n",
       "5. **Avoid stimulating activities before bedtime**:\n",
       "\t* Avoid intense exercise, caffeine, nicotine, and heavy meals within 2-3 hours of bedtime.\n",
       "\t* Try to manage stress with relaxation techniques or journaling instead of engaging in stimulating conversations or watching exciting movies.\n",
       "6. **Get regular physical activity**: Regular exercise can help improve sleep quality, but avoid vigorous exercise within a few hours of bedtime.\n",
       "7. **Try progressive muscle relaxation**: This technique involves tensing and relaxing different muscle groups to release tension and promote relaxation.\n",
       "8. **Limit naps**: If you need to nap, keep it short (under 30 minutes) and avoid napping close to bedtime.\n",
       "9. **Consider cognitive behavioral therapy for insomnia (CBT-I)**: If you struggle with chronic insomnia, CBT-I may help address underlying issues and develop healthier sleep habits.\n",
       "10. **Consult a healthcare professional**: If you continue to experience poor sleep quality or excessive daytime fatigue, consult with a healthcare expert to rule out any underlying medical conditions.\n",
       "\n",
       "Remember that individual sleep needs vary, so experiment with these suggestions and find what works best for you.\n",
       "\n",
       "References:\n",
       "\n",
       "* National Sleep Foundation. (n.d.). Improve Your Sleep. Retrieved <https://www.sleepfoundation.org/articles/tips-to-improve-sleep>\n",
       "* Harvard Health Publishing. (2019). Sleep Better, Live Better. Retrieved <https://www.health.harvard.edu/topics/sleep-better-live-better>\n",
       "\n",
       "Additional recommendations based on scientific studies:\n",
       "\n",
       "* Exposure to natural light: Aim for morning sunlight to boost alertness and help regulate your circadian rhythms (Khalsa et al., 2003)\n",
       "* Aromatherapy: Incorporate calming scents like lavender, vanilla, or chamomile into your bedroom to promote relaxation (Goel & Etwaroo, 2020)\n",
       "\n",
       "References:\n",
       "\n",
       "Goel, N., & Etwaroo, M. E. (2020). Impact of aromatherapy on sleep quality in adults. Journal of Alternative and Complementary Medicine, 26(3), 236–244.\n",
       "\n",
       "Khalsa, S. B. S., Jewett, M. E., Cajochen, C., & Czeisler, C. A. (2003). A phase response curve for the human circadian pacemaker. Physical Review Physiology, 82(12), 1120–1131."
      ],
      "text/plain": [
       "<IPython.core.display.Markdown object>"
      ]
     },
     "metadata": {},
     "output_type": "display_data"
    }
   ],
   "source": [
    "response = get_llm_response(user_input)['choices'][0]['message']['content']\n",
    "display(Markdown(response))"
   ]
  },
  {
   "cell_type": "markdown",
   "metadata": {},
   "source": [
    "#### **comment**: *Llama hallucinates like crazy.*"
   ]
  },
  {
   "cell_type": "markdown",
   "metadata": {},
   "source": [
    "#### ***Comparison RAG VS no-RAG***"
   ]
  },
  {
   "cell_type": "code",
   "execution_count": 15,
   "metadata": {},
   "outputs": [
    {
     "data": {
      "text/markdown": [
       "\n",
       "# RAG Response\n",
       "Based on the provided information, Andrew Huberman is a professor of neurobiology and ophthalmology at Stanford School of Medicine. He teaches neuroscience and neuroscience-related themes, has a presence on social media, and hosts the Huberman Lab Podcast where he discusses science and science-based tools for everyday life, aiming to bring zero-cost information to the general public.\n",
       "\n",
       "# No RAG Response\n",
       "Andrew Huberman is an American neuroscientist and Professor of Neurobiology, Ophthalmology, and Psychiatry at the Stanford University School of Medicine. He is also a popular podcaster and social media personality.\n",
       "\n",
       "Huberman received his Bachelor's degree in Biology and Psychology from the University of California, Davis, and his Ph.D. in Neuroscience from the University of California, Davis. He then completed a postdoctoral fellowship at the University of California, San Diego.\n",
       "\n",
       "Huberman's research focuses on the neural circuits that govern visual perception, sleep, and emotional regulation. His work has been published in several high-impact scientific journals, including Nature, Science, and Neuron.\n",
       "\n",
       "In addition to his academic work, Huberman is known for his ability to explain complex scientific concepts in simple terms. He has gained a large following on social media platforms, such as Instagram and Twitter, where he shares insights on neuroscience, brain development, and overall well-being.\n",
       "\n",
       "He hosts a podcast called the \"Huberman Lab Podcast\" where he discusses science and health-related topics with various guests. The podcast covers a wide range of subjects, including neuroscience, psychology, physiology, and more.\n",
       "\n",
       "Overall, Andrew Huberman is a prominent figure in the worlds of both academia and popular science, using his knowledge to educate people about the human brain and body.\n"
      ],
      "text/plain": [
       "<IPython.core.display.Markdown object>"
      ]
     },
     "metadata": {},
     "output_type": "display_data"
    }
   ],
   "source": [
    "question = \"Who is Andrew Huberman?\"\n",
    "\n",
    "rag_response = get_rag_response(question)\n",
    "no_rag_response = get_llm_response(question)['choices'][0]['message']['content']\n",
    "\n",
    "comparison_table = f\"\"\"\n",
    "# RAG Response\n",
    "{rag_response}\n",
    "\n",
    "# No RAG Response\n",
    "{no_rag_response}\n",
    "\"\"\"\n",
    "\n",
    "display(Markdown(comparison_table))"
   ]
  },
  {
   "cell_type": "markdown",
   "metadata": {},
   "source": [
    "## ***RAG with MMR***"
   ]
  },
  {
   "cell_type": "code",
   "execution_count": 37,
   "metadata": {},
   "outputs": [],
   "source": [
    "def initialize_vector_store():\n",
    "    embeddings = OpenAIEmbeddings(model=\"text-embedding-3-large\")\n",
    "    chroma_client = chromadb.PersistentClient(path=PATH_TO_DB)\n",
    "    vector_store = Chroma(\n",
    "        embedding_function=embeddings,\n",
    "        client=chroma_client,\n",
    "        collection_name=\"huberman_lab\"\n",
    "    )\n",
    "    return vector_store\n",
    "\n",
    "\n",
    "def get_top_docs_mmr(vector_store, query, k=6, fetch_k=20, lambda_mult=0.5):\n",
    "    return vector_store.max_marginal_relevance_search(\n",
    "        query,\n",
    "        k=k,\n",
    "        fetch_k=fetch_k,\n",
    "        lambda_mult=lambda_mult\n",
    "    )\n",
    "\n",
    "def get_top_docs_cosine(vector_store, query, k=6):\n",
    "    return vector_store.similarity_search(query, k=k)\n",
    "\n",
    "def get_llm_response(question, temperature=0.5):\n",
    "    headers = {\n",
    "        \"Authorization\": f\"Bearer {TOKEN}\",\n",
    "        \"Content-Type\": \"application/json\"\n",
    "    }\n",
    "    data = {\n",
    "        \"model\": MODEL_ID,\n",
    "        \"messages\": [\n",
    "            {\n",
    "                \"role\": \"user\",\n",
    "                \"content\": question,\n",
    "            }\n",
    "        ],\n",
    "        \"temperature\": temperature\n",
    "    }\n",
    "    response = requests.post(CLARIN_CHAT_ENDPOINT, headers=headers, json=data)\n",
    "    \n",
    "    if response.status_code == 200:\n",
    "        return response.json()\n",
    "    else:\n",
    "        print(f\"Failed to fetch data. Status code: {response.status_code}\")\n",
    "        print(\"Response content:\", response.text)\n",
    "        return None\n",
    "    \n",
    "def get_rag_response(user_input, temperature=0.1, similarity_search=get_top_docs_cosine):\n",
    "    retrieved_docs = similarity_search(vector_store, user_input)\n",
    "    context = \"\\n\\n\".join([doc.page_content for doc in retrieved_docs])\n",
    "    query = f\"{RAG_PROMPT}\\nRetrieved information:\\n {context}\\n\\nQuestion: {user_input}\"\n",
    "    response_text = get_llm_response(query, temperature)\n",
    "    return response_text['choices'][0]['message']['content']"
   ]
  },
  {
   "cell_type": "markdown",
   "metadata": {},
   "source": [
    "## ***RAG with Cosine Similarity vs MMR***\n",
    "\n",
    "**question:** \"who is Andrew Huberman?\""
   ]
  },
  {
   "cell_type": "code",
   "execution_count": 40,
   "metadata": {},
   "outputs": [
    {
     "data": {
      "text/markdown": [
       "# Cosine similarity search"
      ],
      "text/plain": [
       "<IPython.core.display.Markdown object>"
      ]
     },
     "metadata": {},
     "output_type": "display_data"
    },
    {
     "data": {
      "text/markdown": [
       "<div style='font-size: 12pt'>Based on the provided context, Andrew Huberman is a professor of neurobiology and ophthalmology at Stanford School of Medicine. He hosts the Huberman Lab Podcast where he discusses science and science-based tools for everyday life, aiming to make this information available to the general public at no cost.</div>"
      ],
      "text/plain": [
       "<IPython.core.display.Markdown object>"
      ]
     },
     "metadata": {},
     "output_type": "display_data"
    },
    {
     "data": {
      "text/markdown": [
       "--------------------------------"
      ],
      "text/plain": [
       "<IPython.core.display.Markdown object>"
      ]
     },
     "metadata": {},
     "output_type": "display_data"
    },
    {
     "data": {
      "text/markdown": [
       "# MMR similarity search"
      ],
      "text/plain": [
       "<IPython.core.display.Markdown object>"
      ]
     },
     "metadata": {},
     "output_type": "display_data"
    },
    {
     "data": {
      "text/markdown": [
       "<div style='font-size: 12pt'>Based on the provided context, Andrew Huberman is a professor of neurobiology and ophthalmology at Stanford School of Medicine. He hosts \"The Huberman Lab Podcast\" where he discusses science and science-based tools for everyday life, aiming to provide zero-cost information to the general public.</div>"
      ],
      "text/plain": [
       "<IPython.core.display.Markdown object>"
      ]
     },
     "metadata": {},
     "output_type": "display_data"
    }
   ],
   "source": [
    "question = \"who is Andrew Huberman?\"\n",
    "response = get_rag_response(question, temperature=0.3, similarity_search=get_top_docs_cosine)\n",
    "display(Markdown(f\"# Cosine similarity search\"))\n",
    "display(Markdown(f\"<div style='font-size: 12pt'>{response}</div>\"))\n",
    "display(Markdown(f\"--------------------------------\"))\n",
    "response = get_rag_response(question, temperature=0.3, similarity_search=get_top_docs_mmr)\n",
    "display(Markdown(f\"# MMR similarity search\"))\n",
    "display(Markdown(f\"<div style='font-size: 12pt'>{response}</div>\"))"
   ]
  },
  {
   "cell_type": "markdown",
   "metadata": {},
   "source": [
    "## **Temperature**\n",
    "**question:** \"What is the best way to improve sleep quality?\""
   ]
  },
  {
   "cell_type": "code",
   "execution_count": 41,
   "metadata": {},
   "outputs": [
    {
     "data": {
      "text/markdown": [
       "<div style='font-size: 12pt'>According to Andrew Huberman, the best approach to improving sleep quality involves a multi-step process. Firstly, he emphasizes the importance of establishing good \"behavioral tools\" which include having a consistent morning routine, getting sunlight exposure in the afternoon, avoiding caffeine and alcohol close to bedtime, cooling down the room, and dimming the lights. \n",
       "\n",
       "Additionally, exercise has been found to significantly improve the quality of slow-wave sleep by increasing slow-wave stability. He also mentions that nutrition can play a role in optimizing sleep, although this should be considered secondary to behavioral changes.\n",
       "\n",
       "It's worth noting that while sleep trackers can provide some insights into sleep patterns, they are not perfectly accurate and should not be solely relied upon.</div>"
      ],
      "text/plain": [
       "<IPython.core.display.Markdown object>"
      ]
     },
     "metadata": {},
     "output_type": "display_data"
    },
    {
     "data": {
      "text/markdown": [
       "--------------------------------"
      ],
      "text/plain": [
       "<IPython.core.display.Markdown object>"
      ]
     },
     "metadata": {},
     "output_type": "display_data"
    },
    {
     "data": {
      "text/markdown": [
       "<div style='font-size: 12pt'>According to Andrew Huberman's teachings, the best way to improve sleep quality involves a combination of behavioral tools, nutrition, and other strategies. Here are some key takeaways:\n",
       "\n",
       "1. **Behavioral Tools**: Establish a consistent morning and afternoon routine, including exposure to sunlight in the afternoon. Avoid caffeine and alcohol in the hours leading up to bedtime. Create a sleep-conducive environment by cooling down the room and dimming the lights.\n",
       "2. **Nutrition**: While specific dietary recommendations are not mentioned in the provided text, Andrew Huberman suggests considering nutrition as a secondary approach to improving sleep quality.\n",
       "3. **Exercise**: Regular exercise can help improve slow-wave sleep quality by increasing slow-wave stability. This is supported by research papers referenced by Andrew Huberman.\n",
       "\n",
       "By incorporating these strategies, individuals can optimize their sleep quality, which is essential for overall well-being, energy levels, and mood.</div>"
      ],
      "text/plain": [
       "<IPython.core.display.Markdown object>"
      ]
     },
     "metadata": {},
     "output_type": "display_data"
    },
    {
     "data": {
      "text/markdown": [
       "--------------------------------"
      ],
      "text/plain": [
       "<IPython.core.display.Markdown object>"
      ]
     },
     "metadata": {},
     "output_type": "display_data"
    },
    {
     "data": {
      "text/markdown": [
       "<div style='font-size: 12pt'>According to Andrew Huberman, the best way to improve sleep quality involves a combination of behavioral tools, nutrition, and other strategies. Here are some specific tips mentioned:\n",
       "\n",
       "1. **Establish a consistent morning and afternoon routine**: This helps regulate the body's internal clock.\n",
       "2. **Get sunlight exposure in the afternoon**: Natural light exposure helps regulate the circadian rhythm.\n",
       "3. **Avoid caffeine and alcohol**: Both can disrupt sleep patterns; avoid consuming them in the 8-10 hours leading up to bedtime.\n",
       "4. **Cool down the room**: A cooler environment promotes better sleep.\n",
       "5. **Dim the lights**: Darkness helps signal to the brain that it's time to sleep.\n",
       "\n",
       "Additionally, exercise has been shown to improve slow-wave sleep stability, which is a key aspect of deep sleep. However, it's essential to note that individual results may vary, and what works best for each person depends on their unique needs and preferences.\n",
       "\n",
       "It's also important to remember that commercial sleep trackers are not always accurate, but they can still provide valuable insights into sleep patterns. By combining these behavioral tools and strategies, individuals can optimize their sleep quality and experience improved focus, energy, and overall well-being.</div>"
      ],
      "text/plain": [
       "<IPython.core.display.Markdown object>"
      ]
     },
     "metadata": {},
     "output_type": "display_data"
    },
    {
     "data": {
      "text/markdown": [
       "--------------------------------"
      ],
      "text/plain": [
       "<IPython.core.display.Markdown object>"
      ]
     },
     "metadata": {},
     "output_type": "display_data"
    },
    {
     "data": {
      "text/markdown": [
       "<div style='font-size: 12pt'>According to Andrew Huberman, the best way to improve sleep quality involves a combination of behavioral tools, nutritional strategies, and other techniques. Behavioral tools include:\n",
       "\n",
       "1. Establishing a consistent morning routine (critical period one)\n",
       "2. Having an afternoon routine that includes exposure to sunlight\n",
       "3. Avoiding caffeine in the 8-10 hours leading up to bedtime\n",
       "4. Not consuming alcohol\n",
       "5. Cooling down the room temperature\n",
       "6. Dimming the lights\n",
       "\n",
       "Additionally, exercise has been shown to improve the quality of slow-wave sleep by increasing slow-wave stability. It's also important to note that individual differences play a role, and what works best may depend on whether someone is interoceptively biased or exteroceptively biased.\n",
       "\n",
       "Nutrition and supplements can also be considered, but as a secondary approach after establishing good behavioral habits. However, specific recommendations for nutrition and supplements are not mentioned in the provided context.\n",
       "\n",
       "It's worth noting that commercially available sleep trackers are not perfectly accurate, so while they can provide some insights, they should not be solely relied upon to assess sleep quality.</div>"
      ],
      "text/plain": [
       "<IPython.core.display.Markdown object>"
      ]
     },
     "metadata": {},
     "output_type": "display_data"
    },
    {
     "data": {
      "text/markdown": [
       "--------------------------------"
      ],
      "text/plain": [
       "<IPython.core.display.Markdown object>"
      ]
     },
     "metadata": {},
     "output_type": "display_data"
    },
    {
     "data": {
      "text/markdown": [
       "<div style='font-size: 12pt'>According to Andrew Huberman's teachings, the best way to improve sleep quality involves a combination of behavioral tools, nutrition, and other strategies. Here are some specific tips:\n",
       "\n",
       "1. **Behavioral Tools:** Establish a consistent morning and afternoon routine, including exposure to sunlight in the afternoon. Avoid caffeine and alcohol close to bedtime (8-10 hours). Cool down the room, dim the lights, and create a relaxing sleep environment.\n",
       "2. **Nutrition:** While not explicitly mentioned in this context, other sources suggest that a balanced diet rich in nutrients, avoiding heavy meals close to bedtime, and staying hydrated can also support sleep quality.\n",
       "3. **Specific Strategies for Deep Sleep (Slow-Wave Sleep):** Two well-documented methods to improve slow-wave sleep are:\n",
       "\t* Exercise: Regular exercise can increase slow-wave stability, leading to improved deep sleep.\n",
       "\t* It is unclear what the second method is based on the provided text, but other sources may offer additional insights.\n",
       "\n",
       "It's essential to note that individual results may vary, and what works for one person might not work for another. Additionally, commercially available sleep trackers are not perfectly accurate, so it's crucial to focus on overall sleep quality rather than relying solely on tracking devices.</div>"
      ],
      "text/plain": [
       "<IPython.core.display.Markdown object>"
      ]
     },
     "metadata": {},
     "output_type": "display_data"
    },
    {
     "data": {
      "text/markdown": [
       "--------------------------------"
      ],
      "text/plain": [
       "<IPython.core.display.Markdown object>"
      ]
     },
     "metadata": {},
     "output_type": "display_data"
    }
   ],
   "source": [
    "question = \"What is the best way to improve sleep quality?\"\n",
    "\n",
    "for i in range(5):\n",
    "    response = get_rag_response(question, temperature=0.5)\n",
    "    display(Markdown(f\"<div style='font-size: 12pt'>{response}</div>\"))\n",
    "    display(Markdown(f\"--------------------------------\"))"
   ]
  },
  {
   "cell_type": "code",
   "execution_count": 42,
   "metadata": {},
   "outputs": [
    {
     "data": {
      "text/markdown": [
       "<div style='font-size: 12pt'>According to Andrew Huberman, the best way to improve sleep quality involves a combination of behavioral tools, nutrition, and other strategies. Here are some specific tips he recommends:\n",
       "\n",
       "1. **Establish a consistent morning and afternoon routine**: This helps regulate your body's internal clock and improves the quality of your sleep.\n",
       "2. **Get sunlight exposure in the afternoon**: Natural light exposure during the day helps regulate your circadian rhythms, which can lead to better sleep.\n",
       "3. **Avoid caffeine and alcohol before bedtime**: Both substances can disrupt sleep patterns and reduce the quality of your sleep.\n",
       "4. **Cool down the room**: A cooler bedroom environment can promote deeper and more restful sleep.\n",
       "5. **Dim the lights**: Darkness helps signal to your body that it's time to sleep, making it easier to fall asleep and stay asleep.\n",
       "6. **Exercise regularly**: Exercise can help improve the quality of slow-wave sleep, also known as deep sleep. However, the timing and intensity of exercise may need to be adjusted based on individual factors, such as being interoceptively or exteroceptively biased.\n",
       "7. **Consider nutritional interventions**: While not specified in this particular text, Andrew Huberman mentions looking into nutrition as a potential tool for improving sleep quality.\n",
       "\n",
       "It's worth noting that Andrew Huberman emphasizes the importance of addressing sleep issues through behavioral changes before considering other interventions. Additionally, he highlights the limitations of commercially available sleep trackers, suggesting that they may not always provide accurate readings.</div>"
      ],
      "text/plain": [
       "<IPython.core.display.Markdown object>"
      ]
     },
     "metadata": {},
     "output_type": "display_data"
    },
    {
     "data": {
      "text/markdown": [
       "--------------------------------"
      ],
      "text/plain": [
       "<IPython.core.display.Markdown object>"
      ]
     },
     "metadata": {},
     "output_type": "display_data"
    },
    {
     "data": {
      "text/markdown": [
       "<div style='font-size: 12pt'>According to Andrew Huberman, the best way to improve sleep quality involves a combination of behavioral tools, nutrition, and other strategies. Some specific recommendations include:\n",
       "\n",
       "1. Establishing a consistent morning and afternoon routine.\n",
       "2. Exposing yourself to sunlight in the afternoon.\n",
       "3. Avoiding caffeine for 8-10 hours before bedtime.\n",
       "4. Not consuming alcohol.\n",
       "5. Cooling down the room temperature.\n",
       "6. Dimming the lights.\n",
       "\n",
       "Additionally, exercise has been shown to improve slow-wave sleep quality by increasing slow-wave stability. It's also important to note that individual results may vary depending on whether someone is interoceptively biased (more focused on internal bodily sensations) or exteroceptively biased (more focused on external stimuli).\n",
       "\n",
       "It's worth noting that while sleep trackers can provide some insights, they are not perfectly accurate, especially commercially available ones. Therefore, it's essential to focus on developing healthy sleep habits rather than relying solely on technology.</div>"
      ],
      "text/plain": [
       "<IPython.core.display.Markdown object>"
      ]
     },
     "metadata": {},
     "output_type": "display_data"
    },
    {
     "data": {
      "text/markdown": [
       "--------------------------------"
      ],
      "text/plain": [
       "<IPython.core.display.Markdown object>"
      ]
     },
     "metadata": {},
     "output_type": "display_data"
    },
    {
     "data": {
      "text/markdown": [
       "<div style='font-size: 12pt'>According to Andrew Huberman's teachings, the best way to improve sleep quality involves a combination of behavioral tools, nutrition, and other strategies. Here are some specific tips he recommends:\n",
       "\n",
       "1. **Establish a consistent morning and afternoon routine**: This helps regulate your body's internal clock and improves the quality of your sleep.\n",
       "2. **Get sunlight exposure in the afternoon**: Natural light exposure during the day helps regulate your circadian rhythms, leading to better sleep.\n",
       "3. **Avoid caffeine and alcohol before bedtime**: Both substances can disrupt sleep patterns and reduce sleep quality.\n",
       "4. **Cool down the room**: A cooler bedroom environment promotes deeper sleep.\n",
       "5. **Dim the lights**: Darkness signals to your body that it's time to sleep, helping you fall asleep faster and sleep more soundly.\n",
       "6. **Exercise regularly**: Exercise can improve slow-wave sleep stability, which is essential for deep, restorative sleep.\n",
       "7. **Consider nutritional interventions**: While not specified in this particular text, Andrew Huberman may recommend certain nutrients or supplements to support sleep quality.\n",
       "\n",
       "It's worth noting that Andrew Huberman emphasizes the importance of addressing sleep issues through behavioral changes before considering other interventions. By incorporating these habits into your daily routine, you can significantly improve the quality of your sleep.</div>"
      ],
      "text/plain": [
       "<IPython.core.display.Markdown object>"
      ]
     },
     "metadata": {},
     "output_type": "display_data"
    },
    {
     "data": {
      "text/markdown": [
       "--------------------------------"
      ],
      "text/plain": [
       "<IPython.core.display.Markdown object>"
      ]
     },
     "metadata": {},
     "output_type": "display_data"
    },
    {
     "data": {
      "text/markdown": [
       "<div style='font-size: 12pt'>According to Andrew Huberman, the best way to improve sleep quality involves a combination of behavioral tools, nutrition, and other strategies. Some specific recommendations include:\n",
       "\n",
       "1. Establishing a consistent morning and afternoon routine, including exposure to sunlight in the afternoon.\n",
       "2. Avoiding caffeine and alcohol in the hours leading up to bedtime.\n",
       "3. Cooling down the room and dimming the lights to create a sleep-conducive environment.\n",
       "4. Engaging in exercise, which has been shown to improve slow-wave sleep stability (although the timing and type of exercise are not specified).\n",
       "5. Considering nutritional approaches, although this is mentioned as a secondary step after implementing behavioral changes.\n",
       "\n",
       "It's also important to note that commercial sleep trackers may not be perfectly accurate, but can still provide useful insights into sleep patterns. Additionally, getting enough sleep and maintaining good sleep quality can have a significant impact on overall well-being, energy levels, and mood.</div>"
      ],
      "text/plain": [
       "<IPython.core.display.Markdown object>"
      ]
     },
     "metadata": {},
     "output_type": "display_data"
    },
    {
     "data": {
      "text/markdown": [
       "--------------------------------"
      ],
      "text/plain": [
       "<IPython.core.display.Markdown object>"
      ]
     },
     "metadata": {},
     "output_type": "display_data"
    },
    {
     "data": {
      "text/markdown": [
       "<div style='font-size: 12pt'>According to Andrew Huberman's teachings, the best way to improve sleep quality involves a combination of behavioral tools, nutrition, and other strategies. Here are some specific tips:\n",
       "\n",
       "1. **Establish a consistent morning and afternoon routine**: This helps regulate your body's internal clock and improves the quality of your sleep.\n",
       "2. **Get sunlight exposure in the afternoon**: Natural light exposure during the day helps regulate your circadian rhythms, leading to better sleep.\n",
       "3. **Avoid caffeine and alcohol before bedtime**: Both substances can disrupt sleep patterns and reduce sleep quality.\n",
       "4. **Cool down the room temperature**: A cooler room promotes deeper sleep and improves sleep quality.\n",
       "5. **Dim the lights**: Darkness signals the body to produce melatonin, which regulates sleep-wake cycles.\n",
       "6. **Exercise regularly**: Exercise can help improve slow-wave sleep stability, but the timing and type of exercise may vary depending on individual factors (e.g., being interoceptively or exteroceptively biased).\n",
       "7. **Consider nutritional interventions**: While not explicitly mentioned in this specific text, Andrew Huberman suggests considering nutrition as a second step after implementing behavioral changes.\n",
       "\n",
       "It's essential to note that individual results may vary, and what works for one person might not work for another. Additionally, sleep trackers can provide insights into sleep patterns, but their accuracy is limited, and they should not be solely relied upon for assessing sleep quality.</div>"
      ],
      "text/plain": [
       "<IPython.core.display.Markdown object>"
      ]
     },
     "metadata": {},
     "output_type": "display_data"
    },
    {
     "data": {
      "text/markdown": [
       "--------------------------------"
      ],
      "text/plain": [
       "<IPython.core.display.Markdown object>"
      ]
     },
     "metadata": {},
     "output_type": "display_data"
    }
   ],
   "source": [
    "question = \"What is the best way to improve sleep quality?\"\n",
    "\n",
    "for i in range(5):\n",
    "    response = get_rag_response(question, temperature=0.1)\n",
    "    display(Markdown(f\"<div style='font-size: 12pt'>{response}</div>\"))\n",
    "    display(Markdown(f\"--------------------------------\"))"
   ]
  },
  {
   "cell_type": "markdown",
   "metadata": {},
   "source": [
    "### ***similarity seach breakdown***"
   ]
  },
  {
   "cell_type": "markdown",
   "metadata": {},
   "source": [
    "***Who is Andrew Huberman?***"
   ]
  },
  {
   "cell_type": "markdown",
   "metadata": {},
   "source": [
    "#### ***cosine***"
   ]
  },
  {
   "cell_type": "code",
   "execution_count": 61,
   "metadata": {},
   "outputs": [
    {
     "name": "stdout",
     "output_type": "stream",
     "text": [
      "- Welcome to the Huberman Lab Podcast where we discuss science and science-based tools for everyday life. Welcome, I'm Andrew Huberman, and I'm a professor of neurobiology and ophthalmology at Stanford School of Medicine. That's what I do for my day job, but over the last few years I've become very active in teaching neuroscience and neuroscience-related themes on social media. And I've also been fortunate enough to be hosted as a guest on various people's podcasts to discuss neuroscience and\n",
      "--------------------------------\n",
      "- [Andrew Huberman] Welcome to the Huberman Lab Podcast, where we discuss science and science-based tools for everyday life. - My name is Andrew Huberman, and I'm a professor of neurobiology and ophthalmology at Stanford School of Medicine. This podcast is separate from my teaching and research roles at Stanford. It is however part of my desire and effort to bring zero-cost to consumer information about science and science-related tools to the general public. In keeping with that theme,\n",
      "--------------------------------\n",
      "- [Andrew Huberman] Welcome to the Huberman Lab Podcast where we discuss science and science-based tools for everyday life. - I'm Andrew Huberman, and I'm a Professor of Neurobiology and Ophthalmology at Stanford School of Medicine. This podcast is separate from my teaching and research roles at Stanford. It is however, part of my desire and effort to bring zero cost to consumer information about science and science-related tools to the general public. In keeping with that theme,\n",
      "--------------------------------\n",
      "- [Andrew Huberman] Welcome to the Huberman Lab Podcast where we discuss science and science-based tools for everyday life. [upbeat music] - I'm Andrew Huberman, and I'm a professor of neurobiology and ophthalmology at Stanford School of Medicine. This podcast is separate from my teaching and research roles at Stanford. It is however, part of my desire and effort to bring zero cost to consumer information about science and science related tools to the general public. In keeping with that theme\n",
      "--------------------------------\n",
      "- Welcome to the Huberman Lab Podcast where we discuss science and science-based tools for everyday life I'm Andrew Huberman. And I'm a Professor of Neurobiology and Ophthalmology at Stanford School of Medicine. This podcast is separate from my teaching and research roles at Stanford. It is however, part of my desire and effort to bring zero cost to consumer information about science and science-related tools to the general public. In keeping with that theme, I'd like to thank the\n",
      "--------------------------------\n",
      "- Welcome to the Huberman Lab Podcast, where we discuss science and science-based tools for everyday life. I'm Andrew Huberman and I'm a professor of neurobiology and ophthalmology at Stanford School of Medicine. This podcast is separate from my teaching and research roles at Stanford. It is, however, part of my desire and effort to bring zero-cost-to-consumer information about science and science-related tools to the general public. In keeping with that theme, I'd like to thank the\n",
      "--------------------------------\n"
     ]
    }
   ],
   "source": [
    "query = \"Who is Andrew Huberman?\"\n",
    "top_docs = get_top_docs_cosine(vector_store, query)\n",
    "for doc in top_docs:\n",
    "    print(doc.page_content.replace(\"\\n\", \" \"))\n",
    "    print(\"--------------------------------\")\n"
   ]
  },
  {
   "cell_type": "markdown",
   "metadata": {},
   "source": [
    "#### ***mmr***"
   ]
  },
  {
   "cell_type": "code",
   "execution_count": 62,
   "metadata": {},
   "outputs": [
    {
     "name": "stdout",
     "output_type": "stream",
     "text": [
      "- Welcome to the Huberman Lab Podcast where we discuss science and science-based tools for everyday life. Welcome, I'm Andrew Huberman, and I'm a professor of neurobiology and ophthalmology at Stanford School of Medicine. That's what I do for my day job, but over the last few years I've become very active in teaching neuroscience and neuroscience-related themes on social media. And I've also been fortunate enough to be hosted as a guest on various people's podcasts to discuss neuroscience and\n",
      "--------------------------------\n",
      "- [Andrew Huberman] Welcome to the Huberman Lab Podcast, where we discuss science and science-based tools for everyday life. - My name is Andrew Huberman, and I'm a professor of neurobiology and ophthalmology at Stanford School of Medicine. This podcast is separate from my teaching and research roles at Stanford. It is however part of my desire and effort to bring zero-cost to consumer information about science and science-related tools to the general public. In keeping with that theme,\n",
      "--------------------------------\n",
      "- [Andrew Huberman] Welcome to the Huberman Lab Podcast where we discuss science and science-based tools for everyday life. - I'm Andrew Huberman, and I'm a Professor of Neurobiology and Ophthalmology at Stanford School of Medicine. This podcast is separate from my teaching and research roles at Stanford. It is however, part of my desire and effort to bring zero cost to consumer information about science and science-related tools to the general public. In keeping with that theme,\n",
      "--------------------------------\n",
      "- [Andrew Huberman] Welcome to the Huberman Lab Podcast where we discuss science and science-based tools for everyday life. [upbeat music] - I'm Andrew Huberman, and I'm a professor of neurobiology and ophthalmology at Stanford School of Medicine. This podcast is separate from my teaching and research roles at Stanford. It is however, part of my desire and effort to bring zero cost to consumer information about science and science related tools to the general public. In keeping with that theme\n",
      "--------------------------------\n",
      "- Welcome to the Huberman Lab Podcast where we discuss science and science-based tools for everyday life I'm Andrew Huberman. And I'm a Professor of Neurobiology and Ophthalmology at Stanford School of Medicine. This podcast is separate from my teaching and research roles at Stanford. It is however, part of my desire and effort to bring zero cost to consumer information about science and science-related tools to the general public. In keeping with that theme, I'd like to thank the\n",
      "--------------------------------\n",
      "[upbeat music] - [Andrew Huberman] Welcome to The Huberman Lab Podcast, where we discuss science and science-based tools for everyday life. - I'm Andrew Huberman and I'm a professor of Neurobiology and Ophthalmology at Stanford School of Medicine. This podcast is separate from my teaching and research roles at Stanford. It is however part of my desire and effort, to bring zero cost to consumer information about science and science related tools. In keeping with that theme, I'd like to thank the\n",
      "--------------------------------\n"
     ]
    }
   ],
   "source": [
    "top_docs = get_top_docs_mmr(vector_store, query, k=6, fetch_k=100, lambda_mult=0.9)\n",
    "for doc in top_docs:\n",
    "    print(doc.page_content.replace(\"\\n\", \" \"))\n",
    "    print(\"--------------------------------\")"
   ]
  },
  {
   "cell_type": "markdown",
   "metadata": {},
   "source": [
    "***What is the best way to improve sleep quality?***"
   ]
  },
  {
   "cell_type": "markdown",
   "metadata": {},
   "source": [
    "#### ***cosine***"
   ]
  },
  {
   "cell_type": "code",
   "execution_count": 65,
   "metadata": {},
   "outputs": [
    {
     "name": "stdout",
     "output_type": "stream",
     "text": [
      "early part of the night, more of that time is going to be occupied by slow-wave sleep. The two ways to improve slow-wave sleep that are well documented in the literature, and here we can point to some really nice papers that I'll reference in case you want to read further, is the first one is entitled, Exercise Improves the Quality of Slow-Wave Sleep by Increasing Slow-Wave Stability. Slow-wave Stability has to do with, as researchers call it, the amount of power present\n",
      "--------------------------------\n",
      "again, should be dictated by whether or not you tend to be interoceptively biased or exteroceptively biased. But if you want to get better at sleeping, you want to get better at falling asleep, and you want to replace sleep that you've lost, I put that in quotes so that my colleagues like Matthew Walker don't come after me with... What would you come after me with, Matt? Probably with an alarm clock and, I don't know, blankets and a pillow or something of that sort. In all seriousness,\n",
      "--------------------------------\n",
      "yet as concise as possible. The first question is about how to improve sleep. In particular, how to improve deep sleep that is sometimes called slow-wave sleep. This was a question that was asked by Jack Pritchard and they got a lot of up votes. Now, we've done multiple full-length episodes of the Huberman Lab podcast on sleep and tools to improve sleep, including the Master Your Sleep episode and Perfect Your Sleep episode, as well as a toolkit that is available\n",
      "--------------------------------\n",
      "to record brainwaves. They actually are going to try and observe for rapid eye movements beneath the eyelids, et cetera. So sleep trackers give you a best guess as to what stage of sleep you're in. They are not perfectly accurately, at least none of the commercially available sleep trackers are perfectly accurate. So we do want to highlight that. Okay, so now let's answer Jack's question directly, which is how to increase the total amount of slow-wave sleep. Well, there are a couple ways.\n",
      "--------------------------------\n",
      "You got your morning routine from critical period one. You've got your afternoon routine. You saw some sunlight in the afternoon. You avoided caffeine in the eight hours or 10 hours before bedtime. You're not drinking alcohol. You've cooled down the room. You're doing all these things right. You've dimmed the lights, et cetera, et cetera. What else can we do in order to optimize our sleep? Well, I always say behavioral tools first, then look to nutrition, then, if necessary,\n",
      "--------------------------------\n",
      "focused and energetic and how positive our mood gets, when we are sleeping for the appropriate amount of time at the appropriate depth and when we are doing that regularly. Basically everything in life gets better when we're sleeping well. So today I'm going to teach you the tools that will allow you to optimize your sleep. That is, get to sleep and stay asleep, fall back asleep if you wake up in the middle of the night, and adjust your sleep given the various life demands\n",
      "--------------------------------\n"
     ]
    }
   ],
   "source": [
    "query = \"What is the best way to improve sleep quality?\"\n",
    "top_docs = get_top_docs_cosine(vector_store, query)\n",
    "for doc in top_docs:\n",
    "    print(doc.page_content.replace(\"\\n\", \" \"))\n",
    "    print(\"--------------------------------\")"
   ]
  },
  {
   "cell_type": "markdown",
   "metadata": {},
   "source": [
    "#### ***mmr***"
   ]
  },
  {
   "cell_type": "code",
   "execution_count": 66,
   "metadata": {},
   "outputs": [
    {
     "name": "stdout",
     "output_type": "stream",
     "text": [
      "early part of the night, more of that time is going to be occupied by slow-wave sleep. The two ways to improve slow-wave sleep that are well documented in the literature, and here we can point to some really nice papers that I'll reference in case you want to read further, is the first one is entitled, Exercise Improves the Quality of Slow-Wave Sleep by Increasing Slow-Wave Stability. Slow-wave Stability has to do with, as researchers call it, the amount of power present\n",
      "--------------------------------\n",
      "start to implement some, or ideally, all of these tools, the quality of your sleep will increase tremendously. And of course, in doing so, the quality of your daytime alertness and your ability to focus will improve tremendously. Again, sleep is the absolute foundation of your mental health, your physical health, and your performance in all endeavors. So if there's one area of your life to really focus on and try and optimize, if your goal is to be happier and more productive\n",
      "--------------------------------\n",
      "again, should be dictated by whether or not you tend to be interoceptively biased or exteroceptively biased. But if you want to get better at sleeping, you want to get better at falling asleep, and you want to replace sleep that you've lost, I put that in quotes so that my colleagues like Matthew Walker don't come after me with... What would you come after me with, Matt? Probably with an alarm clock and, I don't know, blankets and a pillow or something of that sort. In all seriousness,\n",
      "--------------------------------\n",
      "being a functional human being, is to try and get enough quality deep sleep at least 80% of the nights of your life, if you can. That's something to focus on. Just like good nutrition, just like exercise and social connection, et cetera. So sleep deprivation, we know, in particular, I think rapid eye movement components of sleep deprivation can improve the symptoms of depression. And yet being sleep deprived can also really disregulate our control of the autonomic system.\n",
      "--------------------------------\n",
      "yet as concise as possible. The first question is about how to improve sleep. In particular, how to improve deep sleep that is sometimes called slow-wave sleep. This was a question that was asked by Jack Pritchard and they got a lot of up votes. Now, we've done multiple full-length episodes of the Huberman Lab podcast on sleep and tools to improve sleep, including the Master Your Sleep episode and Perfect Your Sleep episode, as well as a toolkit that is available\n",
      "--------------------------------\n",
      "You got your morning routine from critical period one. You've got your afternoon routine. You saw some sunlight in the afternoon. You avoided caffeine in the eight hours or 10 hours before bedtime. You're not drinking alcohol. You've cooled down the room. You're doing all these things right. You've dimmed the lights, et cetera, et cetera. What else can we do in order to optimize our sleep? Well, I always say behavioral tools first, then look to nutrition, then, if necessary,\n",
      "--------------------------------\n"
     ]
    }
   ],
   "source": [
    "top_docs = get_top_docs_mmr(vector_store, query, k=6, fetch_k=100, lambda_mult=0.9)\n",
    "for doc in top_docs:\n",
    "    print(doc.page_content.replace(\"\\n\", \" \"))\n",
    "    print(\"--------------------------------\")"
   ]
  }
 ],
 "metadata": {
  "kernelspec": {
   "display_name": "nlp-env",
   "language": "python",
   "name": "python3"
  },
  "language_info": {
   "codemirror_mode": {
    "name": "ipython",
    "version": 3
   },
   "file_extension": ".py",
   "mimetype": "text/x-python",
   "name": "python",
   "nbconvert_exporter": "python",
   "pygments_lexer": "ipython3",
   "version": "3.9.20"
  }
 },
 "nbformat": 4,
 "nbformat_minor": 2
}
